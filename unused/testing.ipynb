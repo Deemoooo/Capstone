{
 "cells": [
  {
   "cell_type": "code",
   "execution_count": 114,
   "metadata": {},
   "outputs": [
    {
     "data": {
      "text/plain": [
       "'1.0.3'"
      ]
     },
     "execution_count": 114,
     "metadata": {},
     "output_type": "execute_result"
    }
   ],
   "source": [
    "import flask\n",
    "flask.__version__"
   ]
  },
  {
   "cell_type": "code",
   "execution_count": 106,
   "metadata": {},
   "outputs": [],
   "source": [
    "import os\n",
    "from ocr import run_ocr\n",
    "from excel import excel_coor\n",
    "import pandas as pd\n",
    "import shutil\n",
    "import win32com.client as win32\n",
    "import threading\n",
    "import pythoncom\n",
    "import cv2\n",
    "\n",
    "if threading.currentThread().getName() != 'MainThread':\n",
    "    pythoncom.CoInitialize()\n",
    "\n",
    "files = ['Obligor_3_DBS_Bills_Statements_Apr.pdf', \n",
    "        'Obligor_5_Facility_Letter_Dah_Sing.pdf',\n",
    "        'Obligor 1 - CAT spreadsheet']\n",
    "        #'Obligor_7_Citi_GBP_Bank_Statements']\n",
    "    \n",
    "docs = ['Bank Statement', 'Bill Statement', 'Loan Repayment Schedule', 'CAT Template']\n",
    "\n",
    "template_loc = \"static/template\"\n",
    "temp_loc = \"static/temp\"\n",
    "output_loc = \"static/output\"\n",
    "upload_loc = \"static/uploads\"\n",
    "wd = os.getcwd().replace(\"\\\\\", \"/\") + \"/\""
   ]
  },
  {
   "cell_type": "code",
   "execution_count": 107,
   "metadata": {},
   "outputs": [
    {
     "data": {
      "text/plain": [
       "'static/output/output.xlsm'"
      ]
     },
     "execution_count": 107,
     "metadata": {},
     "output_type": "execute_result"
    }
   ],
   "source": [
    "template = template_loc + '/template.xlsm'\n",
    "output = output_loc + '/output.xlsm'\n",
    "\n",
    "shutil.copy(template, output)"
   ]
  },
  {
   "cell_type": "code",
   "execution_count": 108,
   "metadata": {},
   "outputs": [],
   "source": [
    "def adder(file_path):\n",
    "    xl = win32.gencache.EnsureDispatch('Excel.Application')\n",
    "    xl.Visible = False  # change to False after development\n",
    "    xl.DisplayAlerts = False\n",
    "    output_xl = xl.Workbooks.Open(wd +  output_loc + '/output.xlsm')\n",
    "    file_xl = xl.Workbooks.Open(wd + file_path)\n",
    "    file_xl.Sheets(1).Activate()\n",
    "\n",
    "    for i in xl.ActiveWorkbook.Sheets:\n",
    "        i.Copy(After=output_xl.Sheets(output_xl.Sheets.Count))\n",
    "    output_xl.Save()\n",
    "    xl.Quit()"
   ]
  },
  {
   "cell_type": "code",
   "execution_count": 109,
   "metadata": {},
   "outputs": [
    {
     "name": "stdout",
     "output_type": "stream",
     "text": [
      "[OCR] Starting OCR...\n",
      "[OCR] Reading Bill Statement...\n",
      "[OCR] Progress: 0/2 (0%) Time Elapsed: 0.00s\n",
      "[OCR] Progress: 1/2 (50%) Time Elapsed: 5.00s\n",
      "[OCR] Progress: 2/2 (100%) Time Elapsed: 6.34s\n",
      "[OCR] The time has come!\n",
      "[OCR] Starting OCR...\n",
      "[OCR] Reading Loan Repayment Schedule...\n",
      "[OCR] Progress: 0/1 (0%) Time Elapsed: 0.00s\n",
      "[OCR] Progress: 1/1 (100%) Time Elapsed: 2.80s\n",
      "[OCR] The time has come!\n"
     ]
    }
   ],
   "source": [
    "def identifier(file):\n",
    "    if 'bank' in file.lower():\n",
    "        return 'BaS', docs[0]\n",
    "    elif 'bill' in file.lower():\n",
    "        return 'BiS', docs[1]\n",
    "    elif 'facility' in file.lower():\n",
    "        return 'LR', docs[2]\n",
    "    elif 'cat' in file.lower():\n",
    "        return 'CAT', docs[3]\n",
    "    else:\n",
    "        return \"Not a compatible document type.\"\n",
    "\n",
    "frames = {}\n",
    "for file in files:\n",
    "    doc_type, doc_name = identifier(file)\n",
    "    if doc_type == 'CAT':\n",
    "        adder(file)\n",
    "        continue\n",
    "    data, coor, conf = run_ocr(file, doc_type).multi_page_reader()\n",
    "    frames[doc_type] = {'filename': file, 'docname': doc_name, 'data': data, 'coor': coor, 'conf': conf}"
   ]
  },
  {
   "cell_type": "code",
   "execution_count": 110,
   "metadata": {},
   "outputs": [],
   "source": [
    "with pd.ExcelWriter(temp_loc + '/temp.xlsx') as writer:\n",
    "    for doc_type in frames:\n",
    "        if doc_type == 'CAT':\n",
    "            continue\n",
    "        doc_name = frames[doc_type]['docname']\n",
    "        coor = '_coor'+doc_type\n",
    "        conf = '_conf'+doc_type\n",
    "        frames[doc_type]['data'].to_excel(writer, sheet_name=doc_name)\n",
    "        frames[doc_type]['coor'].to_excel(writer, sheet_name=coor)\n",
    "        frames[doc_type]['conf'].to_excel(writer, sheet_name=conf)\n",
    "        frames[doc_type]['sheets'] = [doc_name, coor, conf]"
   ]
  },
  {
   "cell_type": "code",
   "execution_count": 111,
   "metadata": {},
   "outputs": [],
   "source": [
    "adder(temp_loc + '/temp.xlsx')\n",
    "\n",
    "xl = win32.gencache.EnsureDispatch('Excel.Application')\n",
    "xl.Visible = False  # change to False after development\n",
    "xl.DisplayAlerts = False\n",
    "\n",
    "output_xl = xl.Workbooks.Open(wd + output_loc +'/output.xlsm')\n",
    "output_xl.Sheets(\"Sheet1\").Delete()\n",
    "output_xl.Sheets(1).Activate()"
   ]
  },
  {
   "cell_type": "code",
   "execution_count": 112,
   "metadata": {
    "scrolled": true
   },
   "outputs": [],
   "source": [
    "_sheets = {}\n",
    "for i, j in enumerate(xl.ActiveWorkbook.Sheets):\n",
    "    _sheets[j.Name]=i+1\n",
    "\n",
    "for i in frames:\n",
    "    data_sheet, coor_sheet, conf_sheet = frames[i]['sheets']\n",
    "    output_xl.Sheets(coor_sheet).Visible = False\n",
    "    output_xl.Sheets(conf_sheet).Visible = False\n",
    "    pagecol = frames[i]['coor'].columns.get_loc(\"Page Number\")\n",
    "    col = chr(pagecol+98).capitalize()\n",
    "    maxpg = frames[i]['coor'][\"Page Number\"].max()\n",
    "\n",
    "    pagels = {}\n",
    "    pageurl = {}\n",
    "    for j in range(int(maxpg)):\n",
    "        name = wd + 'sample{}/{}.jpg'.format(i, j+1)\n",
    "        img = cv2.imread(name, cv2.IMREAD_UNCHANGED)\n",
    "        pagels[j + 1] = img.shape\n",
    "        pageurl[j + 1] = name\n",
    "    w_factor = 600 / pagels[1][1]\n",
    "    \n",
    "    selector_code = '''Option Explicit\n",
    "\n",
    "\n",
    "Private Sub Worksheet_SelectionChange(ByVal Target As Range)\n",
    "    'Dim words As Collection\n",
    "    'Set words = CollectionCreator()\n",
    "    Dim Range As Range\n",
    "    Dim rCell As Range\n",
    "\n",
    "     If Selection.Count > 0 And Selection.Count < 3 Then\n",
    "        On Error Resume Next\n",
    "        Call DeleteAllShapes\n",
    "        For Each rCell In Target.Cells\n",
    "            Dim rng As String\n",
    "            Dim val As String\n",
    "            Dim i As Integer\n",
    "            Dim msgString As String\n",
    "            Dim coordinates() As String\n",
    "\n",
    "            rng = rCell.Address(RowAbsolute:=False, ColumnAbsolute:=False)\n",
    "            val = Worksheets(\"{0}\").Range(rng).Value\n",
    "\n",
    "                If Not val = \"\" Then\n",
    "                    coordinates = Split(val, \" \")\n",
    "                    Dim vArr() As String\n",
    "                    Dim row_num As String\n",
    "                    Dim pn_address As String\n",
    "                    Dim pn As String\n",
    "                    Dim name As String\n",
    "                    Dim top As Double\n",
    "                    Dim shp as Object\n",
    "\n",
    "                    vArr = Split(rCell.Address(True, False), \"$\")\n",
    "                    row_num = vArr(1)\n",
    "                    pn_address = \"{1}\" & row_num\n",
    "                    pn = Worksheets(\"{0}\").Range(pn_address).Value\n",
    "\n",
    "                    name = \"page\" & pn\n",
    "                    ActiveSheet.Shapes(name).Visible = True\n",
    "                    top = ActiveSheet.Shapes(name).top\n",
    "\n",
    "                    For Each shp In ActiveSheet.Shapes\n",
    "                       If shp.name <> name Then shp.Visible = False\n",
    "                    Next shp\n",
    "\n",
    "                'If Exists(words, range) Then\n",
    "                    Dim x As Double: x = coordinates(0)*{2}\n",
    "                    Dim y As Double: y = coordinates(1)*{2} + top\n",
    "                    Dim w As Double: w = coordinates(2)*{2}\n",
    "                    Dim h As Double: h = coordinates(3)*{2}\n",
    "                    'Dim name As String: name = coordinates(4)\n",
    "                Call BoxCreator(x, y, w, h)\n",
    "                'Else\n",
    "                    'Call DeleteAllShapes\n",
    "                End If\n",
    "        Next rCell\n",
    "    End If\n",
    "\n",
    "End Sub'''.format(coor_sheet, col, w_factor)\n",
    "\n",
    "    data_ws = output_xl.Sheets(data_sheet)\n",
    "    data_ws.Activate()\n",
    "    \n",
    "    output_xl.VBProject.VBComponents('Sheet' + str(_sheets[data_sheet])).CodeModule.AddFromString(selector_code)\n",
    "    data_ws.Columns(\"A\").ColumnWidth = 110\n",
    "    xl.Columns(\"A\").Select()\n",
    "    xl.Selection.ClearContents()\n",
    "    xl.Range(\"B1\").Select()  # add the () at the end here\n",
    "    xl.ActiveWindow.FreezePanes = True\n",
    "    \n",
    "    #print(pageurl)\n",
    "    for l in pageurl:\n",
    "        #data_ws.Activate()\n",
    "        entry_index = frames[i]['coor'].index[frames[i]['coor'][\"Page Number\"] == l].tolist()[0] + 1\n",
    "        top = xl.Range(\"A\" + str(entry_index)).Top\n",
    "        link = pageurl[l].replace(\"/\", \"\\\\\")\n",
    "        pic = data_ws.Shapes.AddPicture(link, \n",
    "                                          LinkToFile=False, SaveWithDocument=True, Left=0, Top=0, Width=-1, Height=-1)\n",
    "\n",
    "        pic.Name = 'page' + str(l)\n",
    "        pic.Left = 0\n",
    "        pic.Top = top\n",
    "        pic.Width = 600\n",
    "        if l == 1:\n",
    "            pic.Visible = True\n",
    "        else:\n",
    "            pic.Visible = False\n",
    "\n",
    "output_xl.Save()\n",
    "xl.Quit()\n",
    "    \n",
    "    "
   ]
  }
 ],
 "metadata": {
  "kernelspec": {
   "display_name": "Python 3",
   "language": "python",
   "name": "python3"
  },
  "language_info": {
   "codemirror_mode": {
    "name": "ipython",
    "version": 3
   },
   "file_extension": ".py",
   "mimetype": "text/x-python",
   "name": "python",
   "nbconvert_exporter": "python",
   "pygments_lexer": "ipython3",
   "version": "3.7.3"
  }
 },
 "nbformat": 4,
 "nbformat_minor": 2
}
