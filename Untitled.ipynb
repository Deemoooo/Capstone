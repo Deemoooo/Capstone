{
 "cells": [
  {
   "cell_type": "code",
   "execution_count": 54,
   "metadata": {},
   "outputs": [],
   "source": [
    "import win32com.client as win32\n",
    "import os\n",
    "\n",
    "xl = win32.gencache.EnsureDispatch('Excel.Application')\n",
    "xl.Visible = True  # change to False after development\n",
    "xl.DisplayAlerts = False\n",
    "xl.AskToUpdateLinks = False\n",
    "wd = os.getcwd().replace(\"\\\\\", \"/\") + \"/\"\n",
    "output_xl = xl.Workbooks.Open(wd + \"static/output/output.xlsm\")"
   ]
  },
  {
   "cell_type": "code",
   "execution_count": 45,
   "metadata": {
    "scrolled": false
   },
   "outputs": [],
   "source": [
    "r = output_xl.Sheets(\"Bill Statement\").Range(\"B:Z\")"
   ]
  },
  {
   "cell_type": "code",
   "execution_count": 77,
   "metadata": {},
   "outputs": [
    {
     "data": {
      "text/plain": [
       "True"
      ]
     },
     "execution_count": 77,
     "metadata": {},
     "output_type": "execute_result"
    }
   ],
   "source": [
    "output_xl.Sheets(\"Bill Statement\").Range(\"B1\").Select()"
   ]
  },
  {
   "cell_type": "code",
   "execution_count": 55,
   "metadata": {},
   "outputs": [],
   "source": [
    "output_xl.Sheets(\"Bill Statement\").Activate\n",
    "output_xl.Sheets(\"Bill Statement\").Range(\"A1\").Select\n",
    "r = output_xl.Sheets(\"Bill Statement\").Range(\"B:Z\")\n",
    "r.FormatConditions.Add(2, Formula1='=if(_confBiS!B1 <> \"\", _confBiS!B1<85, False)')\n",
    "r.FormatConditions(r.FormatConditions.Count).Interior.ColorIndex = 22"
   ]
  },
  {
   "cell_type": "code",
   "execution_count": 42,
   "metadata": {},
   "outputs": [],
   "source": [
    "output_xl.Save()"
   ]
  },
  {
   "cell_type": "code",
   "execution_count": 43,
   "metadata": {},
   "outputs": [],
   "source": [
    "xl.Quit()"
   ]
  },
  {
   "cell_type": "code",
   "execution_count": 66,
   "metadata": {},
   "outputs": [],
   "source": [
    "output_xl.Sheets(\"Bill Statement\").Visible = True\n",
    "output_xl.Sheets(\"Bill Statement\").Activate()"
   ]
  },
  {
   "cell_type": "code",
   "execution_count": 79,
   "metadata": {
    "scrolled": true
   },
   "outputs": [],
   "source": [
    "xl.Range(\"B1\").Select()\n",
    "xl.ActiveWindow.FreezePanes = True"
   ]
  },
  {
   "cell_type": "code",
   "execution_count": 107,
   "metadata": {},
   "outputs": [],
   "source": [
    "i = output_xl.Sheets(\"Introduction\").Range(\"B3\").Value"
   ]
  },
  {
   "cell_type": "code",
   "execution_count": 80,
   "metadata": {},
   "outputs": [
    {
     "data": {
      "text/plain": [
       "True"
      ]
     },
     "execution_count": 80,
     "metadata": {},
     "output_type": "execute_result"
    }
   ],
   "source": [
    "xl.Range(\"B1\").Select()"
   ]
  },
  {
   "cell_type": "code",
   "execution_count": 19,
   "metadata": {},
   "outputs": [],
   "source": [
    "def adder(file_path):\n",
    "    xl = win32.gencache.EnsureDispatch('Excel.Application')\n",
    "    xl.Visible = False  # change to False after development\n",
    "    xl.DisplayAlerts = False\n",
    "    #output_xl = xl.Workbooks.Open(wd + output_loc + '/output.xlsm')\n",
    "    file_xl = xl.Workbooks.Open(file_path)\n",
    "    file_xl.Sheets(1).Activate()\n",
    "\n",
    "#         for i in xl.ActiveWorkbook.Sheets:\n",
    "#             print(i.Name)\n",
    "#             i.Copy(After=output_xl.Sheets(output_xl.Sheets.Count))\n",
    "\n",
    "#         output_xl.Save()\n",
    "\n",
    "    output_xl.Sheets(1).Activate()\n",
    "    for j in xl.ActiveWorkbook.Sheets:\n",
    "        j.Visible = False\n",
    "\n",
    "    output_xl.Save()\n",
    "    xl.Quit()"
   ]
  },
  {
   "cell_type": "code",
   "execution_count": 20,
   "metadata": {
    "scrolled": true
   },
   "outputs": [
    {
     "ename": "com_error",
     "evalue": "(-2147352567, 'Exception occurred.', (0, 'Microsoft Excel', 'Unable to set the Visible property of the Worksheet class', 'xlmain11.chm', 0, -2146827284), None)",
     "output_type": "error",
     "traceback": [
      "\u001b[1;31m---------------------------------------------------------------------------\u001b[0m",
      "\u001b[1;31mcom_error\u001b[0m                                 Traceback (most recent call last)",
      "\u001b[1;32m<ipython-input-20-32218b418d9c>\u001b[0m in \u001b[0;36m<module>\u001b[1;34m\u001b[0m\n\u001b[1;32m----> 1\u001b[1;33m \u001b[0madder\u001b[0m\u001b[1;33m(\u001b[0m\u001b[0mwd\u001b[0m \u001b[1;33m+\u001b[0m \u001b[1;34m\"Obligor 1 - CAT spreadsheet.xlsb\"\u001b[0m\u001b[1;33m)\u001b[0m\u001b[1;33m\u001b[0m\u001b[1;33m\u001b[0m\u001b[0m\n\u001b[0m",
      "\u001b[1;32m<ipython-input-19-954e4124447c>\u001b[0m in \u001b[0;36madder\u001b[1;34m(file_path)\u001b[0m\n\u001b[0;32m     15\u001b[0m     \u001b[0moutput_xl\u001b[0m\u001b[1;33m.\u001b[0m\u001b[0mSheets\u001b[0m\u001b[1;33m(\u001b[0m\u001b[1;36m1\u001b[0m\u001b[1;33m)\u001b[0m\u001b[1;33m.\u001b[0m\u001b[0mActivate\u001b[0m\u001b[1;33m(\u001b[0m\u001b[1;33m)\u001b[0m\u001b[1;33m\u001b[0m\u001b[1;33m\u001b[0m\u001b[0m\n\u001b[0;32m     16\u001b[0m     \u001b[1;32mfor\u001b[0m \u001b[0mj\u001b[0m \u001b[1;32min\u001b[0m \u001b[0mxl\u001b[0m\u001b[1;33m.\u001b[0m\u001b[0mActiveWorkbook\u001b[0m\u001b[1;33m.\u001b[0m\u001b[0mSheets\u001b[0m\u001b[1;33m:\u001b[0m\u001b[1;33m\u001b[0m\u001b[1;33m\u001b[0m\u001b[0m\n\u001b[1;32m---> 17\u001b[1;33m         \u001b[0mj\u001b[0m\u001b[1;33m.\u001b[0m\u001b[0mVisible\u001b[0m \u001b[1;33m=\u001b[0m \u001b[1;32mFalse\u001b[0m\u001b[1;33m\u001b[0m\u001b[1;33m\u001b[0m\u001b[0m\n\u001b[0m\u001b[0;32m     18\u001b[0m \u001b[1;33m\u001b[0m\u001b[0m\n\u001b[0;32m     19\u001b[0m     \u001b[0moutput_xl\u001b[0m\u001b[1;33m.\u001b[0m\u001b[0mSave\u001b[0m\u001b[1;33m(\u001b[0m\u001b[1;33m)\u001b[0m\u001b[1;33m\u001b[0m\u001b[1;33m\u001b[0m\u001b[0m\n",
      "\u001b[1;32mc:\\users\\steven williams\\appdata\\local\\programs\\python\\python37\\lib\\site-packages\\win32com\\client\\__init__.py\u001b[0m in \u001b[0;36m__setattr__\u001b[1;34m(self, attr, value)\u001b[0m\n\u001b[0;32m    480\u001b[0m                 \u001b[1;32mexcept\u001b[0m \u001b[0mKeyError\u001b[0m\u001b[1;33m:\u001b[0m\u001b[1;33m\u001b[0m\u001b[1;33m\u001b[0m\u001b[0m\n\u001b[0;32m    481\u001b[0m                         \u001b[1;32mraise\u001b[0m \u001b[0mAttributeError\u001b[0m\u001b[1;33m(\u001b[0m\u001b[1;34m\"'%s' object has no attribute '%s'\"\u001b[0m \u001b[1;33m%\u001b[0m \u001b[1;33m(\u001b[0m\u001b[0mrepr\u001b[0m\u001b[1;33m(\u001b[0m\u001b[0mself\u001b[0m\u001b[1;33m)\u001b[0m\u001b[1;33m,\u001b[0m \u001b[0mattr\u001b[0m\u001b[1;33m)\u001b[0m\u001b[1;33m)\u001b[0m\u001b[1;33m\u001b[0m\u001b[1;33m\u001b[0m\u001b[0m\n\u001b[1;32m--> 482\u001b[1;33m                 \u001b[0mself\u001b[0m\u001b[1;33m.\u001b[0m\u001b[0m_oleobj_\u001b[0m\u001b[1;33m.\u001b[0m\u001b[0mInvoke\u001b[0m\u001b[1;33m(\u001b[0m\u001b[1;33m*\u001b[0m\u001b[1;33m(\u001b[0m\u001b[0margs\u001b[0m \u001b[1;33m+\u001b[0m \u001b[1;33m(\u001b[0m\u001b[0mvalue\u001b[0m\u001b[1;33m,\u001b[0m\u001b[1;33m)\u001b[0m \u001b[1;33m+\u001b[0m \u001b[0mdefArgs\u001b[0m\u001b[1;33m)\u001b[0m\u001b[1;33m)\u001b[0m\u001b[1;33m\u001b[0m\u001b[1;33m\u001b[0m\u001b[0m\n\u001b[0m\u001b[0;32m    483\u001b[0m         \u001b[1;32mdef\u001b[0m \u001b[0m_get_good_single_object_\u001b[0m\u001b[1;33m(\u001b[0m\u001b[0mself\u001b[0m\u001b[1;33m,\u001b[0m \u001b[0mobj\u001b[0m\u001b[1;33m,\u001b[0m \u001b[0mobUserName\u001b[0m\u001b[1;33m=\u001b[0m\u001b[1;32mNone\u001b[0m\u001b[1;33m,\u001b[0m \u001b[0mresultCLSID\u001b[0m\u001b[1;33m=\u001b[0m\u001b[1;32mNone\u001b[0m\u001b[1;33m)\u001b[0m\u001b[1;33m:\u001b[0m\u001b[1;33m\u001b[0m\u001b[1;33m\u001b[0m\u001b[0m\n\u001b[0;32m    484\u001b[0m                 \u001b[1;32mreturn\u001b[0m \u001b[0m_get_good_single_object_\u001b[0m\u001b[1;33m(\u001b[0m\u001b[0mobj\u001b[0m\u001b[1;33m,\u001b[0m \u001b[0mobUserName\u001b[0m\u001b[1;33m,\u001b[0m \u001b[0mresultCLSID\u001b[0m\u001b[1;33m)\u001b[0m\u001b[1;33m\u001b[0m\u001b[1;33m\u001b[0m\u001b[0m\n",
      "\u001b[1;31mcom_error\u001b[0m: (-2147352567, 'Exception occurred.', (0, 'Microsoft Excel', 'Unable to set the Visible property of the Worksheet class', 'xlmain11.chm', 0, -2146827284), None)"
     ]
    }
   ],
   "source": [
    "adder(wd + \"Obligor 1 - CAT spreadsheet.xlsb\")"
   ]
  },
  {
   "cell_type": "code",
   "execution_count": 240,
   "metadata": {},
   "outputs": [
    {
     "name": "stdout",
     "output_type": "stream",
     "text": [
      "None\n"
     ]
    }
   ],
   "source": [
    "print(output_xl.Activate())"
   ]
  },
  {
   "cell_type": "code",
   "execution_count": 25,
   "metadata": {
    "scrolled": true
   },
   "outputs": [],
   "source": [
    "    def adder(file_path):\n",
    "#         xl = win32.gencache.EnsureDispatch('Excel.Application')\n",
    "#         xl.Visible = False  # change to False after development\n",
    "#         xl.DisplayAlerts = False\n",
    "#         xl.AskToUpdateLinks = False\n",
    "#         output_xl = xl.Workbooks.Open(wd + \"static/output/output.xlsm\")\n",
    "        file_xl = xl.Workbooks.Open(file_path)\n",
    "        file_xl.Sheets(1).Activate()\n",
    "\n",
    "        for j in xl.ActiveWorkbook.Sheets:\n",
    "            #j.Activate()\n",
    "            j.Visible = 1\n",
    "            j.Copy(After=output_xl.Sheets(output_xl.Sheets.Count))\n",
    "        file_xl.Close()\n",
    "\n",
    "        output_xl.Sheets(1).Activate()\n",
    "        for k in xl.ActiveWorkbook.Sheets:\n",
    "            if k.Name != \"Introduction\":\n",
    "                #k.Activate()\n",
    "                k.Visible = False\n",
    "\n",
    "        output_xl.Save()\n",
    "        xl.Quit()"
   ]
  },
  {
   "cell_type": "code",
   "execution_count": 26,
   "metadata": {},
   "outputs": [
    {
     "ename": "com_error",
     "evalue": "(-2147023170, 'The remote procedure call failed.', None, None)",
     "output_type": "error",
     "traceback": [
      "\u001b[1;31m---------------------------------------------------------------------------\u001b[0m",
      "\u001b[1;31mcom_error\u001b[0m                                 Traceback (most recent call last)",
      "\u001b[1;32m<ipython-input-26-32218b418d9c>\u001b[0m in \u001b[0;36m<module>\u001b[1;34m\u001b[0m\n\u001b[1;32m----> 1\u001b[1;33m \u001b[0madder\u001b[0m\u001b[1;33m(\u001b[0m\u001b[0mwd\u001b[0m \u001b[1;33m+\u001b[0m \u001b[1;34m\"Obligor 1 - CAT spreadsheet.xlsb\"\u001b[0m\u001b[1;33m)\u001b[0m\u001b[1;33m\u001b[0m\u001b[1;33m\u001b[0m\u001b[0m\n\u001b[0m",
      "\u001b[1;32m<ipython-input-25-57c5dce09294>\u001b[0m in \u001b[0;36madder\u001b[1;34m(file_path)\u001b[0m\n\u001b[0;32m     11\u001b[0m         \u001b[1;31m#j.Activate()\u001b[0m\u001b[1;33m\u001b[0m\u001b[1;33m\u001b[0m\u001b[1;33m\u001b[0m\u001b[0m\n\u001b[0;32m     12\u001b[0m         \u001b[0mj\u001b[0m\u001b[1;33m.\u001b[0m\u001b[0mVisible\u001b[0m \u001b[1;33m=\u001b[0m \u001b[1;36m1\u001b[0m\u001b[1;33m\u001b[0m\u001b[1;33m\u001b[0m\u001b[0m\n\u001b[1;32m---> 13\u001b[1;33m         \u001b[0mj\u001b[0m\u001b[1;33m.\u001b[0m\u001b[0mCopy\u001b[0m\u001b[1;33m(\u001b[0m\u001b[0mAfter\u001b[0m\u001b[1;33m=\u001b[0m\u001b[0moutput_xl\u001b[0m\u001b[1;33m.\u001b[0m\u001b[0mSheets\u001b[0m\u001b[1;33m(\u001b[0m\u001b[0moutput_xl\u001b[0m\u001b[1;33m.\u001b[0m\u001b[0mSheets\u001b[0m\u001b[1;33m.\u001b[0m\u001b[0mCount\u001b[0m\u001b[1;33m)\u001b[0m\u001b[1;33m)\u001b[0m\u001b[1;33m\u001b[0m\u001b[1;33m\u001b[0m\u001b[0m\n\u001b[0m\u001b[0;32m     14\u001b[0m     \u001b[0mfile_xl\u001b[0m\u001b[1;33m.\u001b[0m\u001b[0mClose\u001b[0m\u001b[1;33m(\u001b[0m\u001b[1;33m)\u001b[0m\u001b[1;33m\u001b[0m\u001b[1;33m\u001b[0m\u001b[0m\n\u001b[0;32m     15\u001b[0m \u001b[1;33m\u001b[0m\u001b[0m\n",
      "\u001b[1;32mC:\\Users\\STEVEN~1\\AppData\\Local\\Temp\\gen_py\\3.7\\00020813-0000-0000-C000-000000000046x0x1x9\\_Worksheet.py\u001b[0m in \u001b[0;36mCopy\u001b[1;34m(self, Before, After)\u001b[0m\n\u001b[0;32m     79\u001b[0m         \u001b[1;32mdef\u001b[0m \u001b[0mCopy\u001b[0m\u001b[1;33m(\u001b[0m\u001b[0mself\u001b[0m\u001b[1;33m,\u001b[0m \u001b[0mBefore\u001b[0m\u001b[1;33m=\u001b[0m\u001b[0mdefaultNamedOptArg\u001b[0m\u001b[1;33m,\u001b[0m \u001b[0mAfter\u001b[0m\u001b[1;33m=\u001b[0m\u001b[0mdefaultNamedOptArg\u001b[0m\u001b[1;33m)\u001b[0m\u001b[1;33m:\u001b[0m\u001b[1;33m\u001b[0m\u001b[1;33m\u001b[0m\u001b[0m\n\u001b[0;32m     80\u001b[0m \t\treturn self._oleobj_.InvokeTypes(551, LCID, 1, (24, 0), ((12, 17), (12, 17)),Before\n\u001b[1;32m---> 81\u001b[1;33m \t\t\t, After)\n\u001b[0m\u001b[0;32m     82\u001b[0m \u001b[1;33m\u001b[0m\u001b[0m\n\u001b[0;32m     83\u001b[0m         \u001b[1;32mdef\u001b[0m \u001b[0mDelete\u001b[0m\u001b[1;33m(\u001b[0m\u001b[0mself\u001b[0m\u001b[1;33m)\u001b[0m\u001b[1;33m:\u001b[0m\u001b[1;33m\u001b[0m\u001b[1;33m\u001b[0m\u001b[0m\n",
      "\u001b[1;31mcom_error\u001b[0m: (-2147023170, 'The remote procedure call failed.', None, None)"
     ]
    }
   ],
   "source": [
    "adder(wd + \"Obligor 1 - CAT spreadsheet.xlsb\")"
   ]
  },
  {
   "cell_type": "code",
   "execution_count": 279,
   "metadata": {
    "scrolled": true
   },
   "outputs": [
    {
     "name": "stdout",
     "output_type": "stream",
     "text": [
      "Income Statement -1\n",
      "Income Statement 0 \n",
      "\n",
      "Balance Sheet -1\n",
      "Balance Sheet 0 \n",
      "\n",
      "CacheConv -1\n",
      "CacheConv 0 \n",
      "\n",
      "Calculated CF -1\n",
      "Calculated CF 0 \n",
      "\n",
      "DSCR -1\n",
      "DSCR 0 \n",
      "\n",
      "Hong Kong Summary -1\n",
      "Hong Kong Summary 0 \n",
      "\n",
      "RR_Pregrading -1\n",
      "RR_Pregrading 0 \n",
      "\n",
      "RR_CAC -1\n",
      "RR_CAC 0 \n",
      "\n",
      "CSC -1\n",
      "CSC 0 \n",
      "\n",
      "DSCR Tables -1\n",
      "DSCR Tables 0 \n",
      "\n",
      "RR_Ref_CSC -1\n",
      "RR_Ref_CSC 0 \n",
      "\n",
      "RR_GBFCol -1\n",
      "RR_GBFCol 0 \n",
      "\n",
      "RR_Cri_CAC -1\n",
      "RR_Cri_CAC 0 \n",
      "\n",
      "ref_CAC -1\n",
      "ref_CAC 0 \n",
      "\n",
      "TW Pre-Screening -1\n",
      "TW Pre-Screening 0 \n",
      "\n",
      "SME Level -1\n",
      "SME Level 0 \n",
      "\n",
      "RO Classic Prog SME -1\n",
      "RO Classic Prog SME 0 \n",
      "\n",
      "Romania Pre Screening -1\n",
      "Romania Pre Screening 0 \n",
      "\n",
      "RO Small Ticket SME Upto 0.1MM -1\n",
      "RO Small Ticket SME Upto 0.1MM 0 \n",
      "\n",
      "Customer Selection Criteria -1\n",
      "Customer Selection Criteria 0 \n",
      "\n",
      "MCFL -1\n",
      "MCFL 0 \n",
      "\n",
      "NAICS 0\n",
      "NAICS 0 \n",
      "\n",
      "SIC 0\n",
      "SIC 0 \n",
      "\n"
     ]
    }
   ],
   "source": [
    "output_xl.Sheets(1).Activate()\n",
    "for j in xl.ActiveWorkbook.Sheets:\n",
    "    if j.Name != \"Introduction\":\n",
    "        j.Activate()\n",
    "        print(j.Name, j.Visible)\n",
    "        j.Visible = False\n",
    "        print(j.Name, j.Visible, \"\\n\")"
   ]
  },
  {
   "cell_type": "code",
   "execution_count": null,
   "metadata": {},
   "outputs": [],
   "source": [
    "file_xl = xl.Workbooks.Open(wd + \"Obligor 1 - CAT spreadsheet.xlsb\")\n",
    "for j in xl.ActiveWorkbook.Sheets:\n",
    "        j.Activate()\n",
    "        j.Visible = 1\n",
    "        j.Copy(After=output_xl.Sheets(output_xl.Sheets.Count))  \n",
    "file_xl.Close()\n",
    "\n",
    "output_xl.Sheets(1).Activate()\n",
    "for j in xl.ActiveWorkbook.Sheets:\n",
    "    if j.Name != \"Introduction\":\n",
    "        j.Activate()\n",
    "        print(j.Name, j.Visible)\n",
    "        j.Visible = False\n",
    "        print(j.Name, j.Visible, \"\\n\")\n",
    "\n",
    "def adder(file_path):\n",
    "#     xl = win32.gencache.EnsureDispatch('Excel.Application')\n",
    "#     xl.Visible = False  # change to False after development\n",
    "#     xl.DisplayAlerts = False\n",
    "    file_xl = xl.Workbooks.Open(file_path)\n",
    "    file_xl.Sheets(1).Activate()\n",
    "    for j in xl.ActiveWorkbook.Sheets:\n",
    "        j.Activate()\n",
    "        j.Visible = 1\n",
    "        j.Copy(After=output_xl.Sheets(output_xl.Sheets.Count))  \n",
    "    file_xl.Close()\n",
    "\n",
    "    output_xl.Sheets(1).Activate()\n",
    "    for j in xl.ActiveWorkbook.Sheets:\n",
    "    if j.Name != \"Introduction\":\n",
    "        j.Activate()\n",
    "        j.Visible = False"
   ]
  },
  {
   "cell_type": "code",
   "execution_count": 104,
   "metadata": {},
   "outputs": [],
   "source": [
    "def adder(file_path):\n",
    "    xl = win32.gencache.EnsureDispatch('Excel.Application')\n",
    "    xl.Visible = False  # change to False after development\n",
    "    xl.DisplayAlerts = False\n",
    "    xl.AskToUpdateLinks = False\n",
    "    output_xl = xl.Workbooks.Open(wd + \"static/output/output.xlsm\")\n",
    "    file_xl = xl.Workbooks.Open(file_path)\n",
    "    file_xl.Sheets(1).Activate()\n",
    "\n",
    "    for j in xl.ActiveWorkbook.Sheets:\n",
    "        j.Activate()\n",
    "        j.Visible = 1\n",
    "        j.Copy(After=output_xl.Sheets(output_xl.Sheets.Count))\n",
    "    file_xl.Close()\n",
    "\n",
    "    output_xl.Sheets(1).Activate()\n",
    "    for k in xl.ActiveWorkbook.Sheets:\n",
    "        if k.Name != \"Introduction\":\n",
    "            k.Activate()\n",
    "            k.Visible = False\n",
    "\n",
    "    output_xl.Save()"
   ]
  },
  {
   "cell_type": "code",
   "execution_count": 3,
   "metadata": {},
   "outputs": [
    {
     "ename": "NameError",
     "evalue": "name 'output_loc' is not defined",
     "output_type": "error",
     "traceback": [
      "\u001b[1;31m---------------------------------------------------------------------------\u001b[0m",
      "\u001b[1;31mNameError\u001b[0m                                 Traceback (most recent call last)",
      "\u001b[1;32m<ipython-input-3-32218b418d9c>\u001b[0m in \u001b[0;36m<module>\u001b[1;34m\u001b[0m\n\u001b[1;32m----> 1\u001b[1;33m \u001b[0madder\u001b[0m\u001b[1;33m(\u001b[0m\u001b[0mwd\u001b[0m \u001b[1;33m+\u001b[0m \u001b[1;34m\"Obligor 1 - CAT spreadsheet.xlsb\"\u001b[0m\u001b[1;33m)\u001b[0m\u001b[1;33m\u001b[0m\u001b[1;33m\u001b[0m\u001b[0m\n\u001b[0m",
      "\u001b[1;32m<ipython-input-2-01b004eddd5d>\u001b[0m in \u001b[0;36madder\u001b[1;34m(file_path)\u001b[0m\n\u001b[0;32m      4\u001b[0m     \u001b[0mxl\u001b[0m\u001b[1;33m.\u001b[0m\u001b[0mDisplayAlerts\u001b[0m \u001b[1;33m=\u001b[0m \u001b[1;32mFalse\u001b[0m\u001b[1;33m\u001b[0m\u001b[1;33m\u001b[0m\u001b[0m\n\u001b[0;32m      5\u001b[0m     \u001b[0mxl\u001b[0m\u001b[1;33m.\u001b[0m\u001b[0mAskToUpdateLinks\u001b[0m \u001b[1;33m=\u001b[0m \u001b[1;32mFalse\u001b[0m\u001b[1;33m\u001b[0m\u001b[1;33m\u001b[0m\u001b[0m\n\u001b[1;32m----> 6\u001b[1;33m     \u001b[0moutput_xl\u001b[0m \u001b[1;33m=\u001b[0m \u001b[0mxl\u001b[0m\u001b[1;33m.\u001b[0m\u001b[0mWorkbooks\u001b[0m\u001b[1;33m.\u001b[0m\u001b[0mOpen\u001b[0m\u001b[1;33m(\u001b[0m\u001b[0mwd\u001b[0m \u001b[1;33m+\u001b[0m \u001b[0moutput_loc\u001b[0m \u001b[1;33m+\u001b[0m \u001b[1;34m'/output.xlsm'\u001b[0m\u001b[1;33m,\u001b[0m \u001b[0mUpdateLinks\u001b[0m\u001b[1;33m=\u001b[0m\u001b[1;32mFalse\u001b[0m\u001b[1;33m)\u001b[0m\u001b[1;33m\u001b[0m\u001b[1;33m\u001b[0m\u001b[0m\n\u001b[0m\u001b[0;32m      7\u001b[0m     \u001b[0mfile_xl\u001b[0m \u001b[1;33m=\u001b[0m \u001b[0mxl\u001b[0m\u001b[1;33m.\u001b[0m\u001b[0mWorkbooks\u001b[0m\u001b[1;33m.\u001b[0m\u001b[0mOpen\u001b[0m\u001b[1;33m(\u001b[0m\u001b[0mfile_path\u001b[0m\u001b[1;33m,\u001b[0m \u001b[0mUpdateLinks\u001b[0m\u001b[1;33m=\u001b[0m\u001b[1;32mFalse\u001b[0m\u001b[1;33m)\u001b[0m\u001b[1;33m\u001b[0m\u001b[1;33m\u001b[0m\u001b[0m\n\u001b[0;32m      8\u001b[0m     \u001b[0mfile_xl\u001b[0m\u001b[1;33m.\u001b[0m\u001b[0mSheets\u001b[0m\u001b[1;33m(\u001b[0m\u001b[1;36m1\u001b[0m\u001b[1;33m)\u001b[0m\u001b[1;33m.\u001b[0m\u001b[0mActivate\u001b[0m\u001b[1;33m(\u001b[0m\u001b[1;33m)\u001b[0m\u001b[1;33m\u001b[0m\u001b[1;33m\u001b[0m\u001b[0m\n",
      "\u001b[1;31mNameError\u001b[0m: name 'output_loc' is not defined"
     ]
    }
   ],
   "source": [
    "adder(wd + \"Obligor 1 - CAT spreadsheet.xlsb\")"
   ]
  },
  {
   "cell_type": "code",
   "execution_count": 106,
   "metadata": {},
   "outputs": [],
   "source": [
    "xl = win32.gencache.EnsureDispatch('Excel.Application')\n",
    "xl.Visible = False  # change to False after development\n",
    "xl.DisplayAlerts = False\n",
    "xl.AskToUpdateLinks = False\n",
    "output_xl = xl.Workbooks.Open(wd + \"static/output/output.xlsm\")"
   ]
  },
  {
   "cell_type": "code",
   "execution_count": 38,
   "metadata": {},
   "outputs": [
    {
     "data": {
      "text/plain": [
       "<win32com.gen_py.Microsoft Excel 16.0 Object Library.Sheets instance at 0x2986638781576>"
      ]
     },
     "execution_count": 38,
     "metadata": {},
     "output_type": "execute_result"
    }
   ],
   "source": [
    "xl.ActiveWorkbook.Sheets"
   ]
  },
  {
   "cell_type": "code",
   "execution_count": 51,
   "metadata": {},
   "outputs": [
    {
     "name": "stdout",
     "output_type": "stream",
     "text": [
      "('C:\\\\Users\\\\Steven Williams\\\\Desktop\\\\async_flask-master\\\\Obligor 1 - CAT spreadsheet.xlsb',)\n"
     ]
    }
   ],
   "source": [
    "print(xl.ActiveWorkbook.LinkSources(Type=1))"
   ]
  },
  {
   "cell_type": "code",
   "execution_count": 89,
   "metadata": {},
   "outputs": [
    {
     "name": "stdout",
     "output_type": "stream",
     "text": [
      "C:\\Users\\Steven Williams\\Desktop\\async_flask-master\\Obligor 1 - CAT spreadsheet.xlsb\n"
     ]
    }
   ],
   "source": [
    "for i in output_xl.LinkSources(Type=1):\n",
    "    print(i)\n",
    "    output_xl.BreakLink(Name=i, Type=1)\n",
    "output_xl.SaveAs(\"outputalter.xlsm\", FileFormat=52)"
   ]
  },
  {
   "cell_type": "code",
   "execution_count": 74,
   "metadata": {},
   "outputs": [
    {
     "name": "stdout",
     "output_type": "stream",
     "text": [
      "('C:\\\\Users\\\\Steven Williams\\\\Desktop\\\\async_flask-master\\\\Obligor 1 - CAT spreadsheet.xlsb',)\n"
     ]
    }
   ],
   "source": [
    "print(output_xl.LinkSources(Type=1))"
   ]
  },
  {
   "cell_type": "code",
   "execution_count": 101,
   "metadata": {},
   "outputs": [],
   "source": [
    "xl.Quit()"
   ]
  },
  {
   "cell_type": "code",
   "execution_count": 87,
   "metadata": {},
   "outputs": [
    {
     "data": {
      "text/plain": [
       "'C:/Users/Steven Williams/Desktop/async_flask-master/static/output/outputalter.xlsm'"
      ]
     },
     "execution_count": 87,
     "metadata": {},
     "output_type": "execute_result"
    }
   ],
   "source": [
    "wd + \"static/output/outputalter.xlsm\""
   ]
  },
  {
   "cell_type": "code",
   "execution_count": 8,
   "metadata": {},
   "outputs": [
    {
     "data": {
      "text/plain": [
       "'static/output/output.xlsm'"
      ]
     },
     "execution_count": 8,
     "metadata": {},
     "output_type": "execute_result"
    }
   ],
   "source": [
    "import shutil\n",
    "template_loc = \"static/template\"\n",
    "temp_loc = \"static/temp\"\n",
    "output_loc = \"static/output\"\n",
    "upload_loc = \"static/uploads\"\n",
    "wd = os.getcwd().replace(\"\\\\\", \"/\") + \"/\"\n",
    "\n",
    "template = template_loc + '/template.xlsm'\n",
    "output = output_loc + '/output.xlsm'\n",
    "\n",
    "shutil.copy(template, output)"
   ]
  },
  {
   "cell_type": "code",
   "execution_count": 6,
   "metadata": {},
   "outputs": [
    {
     "data": {
      "text/plain": [
       "'576697'"
      ]
     },
     "execution_count": 6,
     "metadata": {},
     "output_type": "execute_result"
    }
   ],
   "source": [
    "from datetime import datetime\n",
    "str(datetime.now())[-6:]"
   ]
  },
  {
   "cell_type": "code",
   "execution_count": 26,
   "metadata": {},
   "outputs": [],
   "source": [
    "import win32com.client as win32\n",
    "import os\n",
    "\n",
    "xl = win32.gencache.EnsureDispatch('Excel.Application')\n",
    "xl.Visible = False  # change to False after development\n",
    "xl.DisplayAlerts = False\n",
    "xl.AskToUpdateLinks = False\n",
    "wd = os.getcwd().replace(\"\\\\\", \"/\") + \"/\"\n",
    "output_xl = xl.Workbooks.Open(wd + \"static/output/output.xlsm\")"
   ]
  },
  {
   "cell_type": "code",
   "execution_count": 22,
   "metadata": {},
   "outputs": [
    {
     "name": "stdout",
     "output_type": "stream",
     "text": [
      "Income Statement\n",
      "Balance Sheet\n",
      "CacheConv\n",
      "Calculated CF\n",
      "DSCR\n",
      "Hong Kong Summary\n",
      "RR_Pregrading\n",
      "RR_CAC\n",
      "CSC\n",
      "DSCR Tables\n",
      "RR_Ref_CSC\n",
      "RR_GBFCol\n",
      "RR_Cri_CAC\n",
      "ref_CAC\n",
      "TW Pre-Screening\n",
      "SME Level\n",
      "RO Classic Prog SME\n",
      "Romania Pre Screening\n",
      "RO Small Ticket SME Upto 0.1MM\n",
      "Customer Selection Criteria\n",
      "MCFL\n"
     ]
    }
   ],
   "source": [
    "file_xl = xl.Workbooks.Open(wd + \"Obligor 1 - CAT spreadsheet.xlsb\")\n",
    "file_xl.Sheets(1).Activate()\n",
    "\n",
    "for j in xl.ActiveWorkbook.Sheets:\n",
    "    xl.DisplayAlerts = False\n",
    "    #j.Activate()\n",
    "    #j.Visible = 1\n",
    "    print(j.Name)\n",
    "    j.Copy(After=output_xl.Sheets(output_xl.Sheets.Count))\n",
    "xl.DisplayAlerts = False\n"
   ]
  },
  {
   "cell_type": "code",
   "execution_count": 23,
   "metadata": {},
   "outputs": [],
   "source": [
    "file_xl.Close(SaveChanges=False)"
   ]
  },
  {
   "cell_type": "code",
   "execution_count": 24,
   "metadata": {},
   "outputs": [
    {
     "name": "stdout",
     "output_type": "stream",
     "text": [
      "Introduction\n",
      "Income Statement\n",
      "Balance Sheet\n",
      "Calculated CF\n",
      "MCFL\n",
      "Customer Selection Criteria\n",
      "RO Small Ticket SME Upto 0.1MM\n",
      "Romania Pre Screening\n",
      "RO Classic Prog SME\n",
      "SME Level\n",
      "TW Pre-Screening\n",
      "ref_CAC\n",
      "RR_Cri_CAC\n",
      "RR_GBFCol\n",
      "RR_Ref_CSC\n",
      "DSCR Tables\n",
      "CSC\n",
      "RR_CAC\n",
      "RR_Pregrading\n",
      "Hong Kong Summary\n",
      "DSCR\n",
      "CacheConv\n",
      "Bill Statement\n",
      "_coorBiS\n",
      "_confBiS\n",
      "NAICS\n",
      "SIC\n"
     ]
    }
   ],
   "source": [
    "output_xl.Sheets(1).Activate()\n",
    "for k in xl.ActiveWorkbook.Sheets:\n",
    "    print(k.Name)\n",
    "    if k.Name != \"Introduction\":\n",
    "        k.Activate()\n",
    "        k.Visible = False\n",
    "\n",
    "output_xl.Save()"
   ]
  },
  {
   "cell_type": "code",
   "execution_count": 28,
   "metadata": {},
   "outputs": [],
   "source": [
    "def adder(file_path):\n",
    "    xl = win32.gencache.EnsureDispatch('Excel.Application')\n",
    "    xl.Visible = False  # change to False after development\n",
    "    xl.DisplayAlerts = False\n",
    "    xl.AskToUpdateLinks = False\n",
    "    #output_xl = xl.Workbooks.Open(wd + output_loc + '/output.xlsm')\n",
    "    file_xl = xl.Workbooks.Open(file_path)\n",
    "    file_xl.Sheets(1).Activate()\n",
    "\n",
    "    for j in xl.ActiveWorkbook.Sheets:\n",
    "        xl.DisplayAlerts = False\n",
    "        j.Copy(After=output_xl.Sheets(output_xl.Sheets.Count))\n",
    "    xl.DisplayAlerts = False\n",
    "    file_xl.Close(SaveChanges=False)\n",
    "\n",
    "    output_xl.Sheets(1).Activate()\n",
    "    for k in xl.ActiveWorkbook.Sheets:\n",
    "        if k.Name != \"Introduction\":\n",
    "            k.Activate()\n",
    "            k.Visible = False\n",
    "\n",
    "    output_xl.Save()\n",
    "    xl.Quit()"
   ]
  },
  {
   "cell_type": "code",
   "execution_count": 29,
   "metadata": {},
   "outputs": [],
   "source": [
    "adder(wd + \"Obligor 1 - CAT spreadsheet.xlsb\")"
   ]
  },
  {
   "cell_type": "code",
   "execution_count": 31,
   "metadata": {},
   "outputs": [],
   "source": [
    "xl = win32.gencache.EnsureDispatch('Excel.Application')\n",
    "xl.Visible = False  # change to False after development\n",
    "xl.DisplayAlerts = False\n",
    "xl.AskToUpdateLinks = False\n",
    "output_xl = xl.Workbooks.Open(wd + \"static/output/output.xlsm\")"
   ]
  },
  {
   "cell_type": "code",
   "execution_count": null,
   "metadata": {},
   "outputs": [],
   "source": []
  }
 ],
 "metadata": {
  "kernelspec": {
   "display_name": "Python 3",
   "language": "python",
   "name": "python3"
  },
  "language_info": {
   "codemirror_mode": {
    "name": "ipython",
    "version": 3
   },
   "file_extension": ".py",
   "mimetype": "text/x-python",
   "name": "python",
   "nbconvert_exporter": "python",
   "pygments_lexer": "ipython3",
   "version": "3.7.3"
  }
 },
 "nbformat": 4,
 "nbformat_minor": 2
}
